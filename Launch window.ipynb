{
 "cells": [
  {
   "cell_type": "code",
   "execution_count": 60,
   "metadata": {},
   "outputs": [
    {
     "name": "stdout",
     "output_type": "stream",
     "text": [
      "When would like to launch: 2021\n",
      "The next launch window comes by on:  8 / 8 / 2022\n",
      "And you will land on:  24 / 4 / 2023\n"
     ]
    }
   ],
   "source": [
    "# launch window for mars\n",
    "import math as mth\n",
    "from datetime import datetime as d\n",
    "import time as t\n",
    "import calendar as cal\n",
    "\n",
    "def launchList():\n",
    "    x=n=Launch_W\n",
    "    launch_list=[x]\n",
    "    while n<=2100:\n",
    "        x=x+synodic_P\n",
    "        launch_list.append(x)\n",
    "        n=x\n",
    "    return launch_list\n",
    "\n",
    "def decToDate(float_year):        #converts a year in decimal form to a struct_time\n",
    "    def sinceEpoch(date):\n",
    "        return t.mktime(date.timetuple())\n",
    "\n",
    "    a1 = float_year-int(float_year)\n",
    "    a2 = d(year=int(float_year), month=1,day=1)\n",
    "    a3 = d(year=int(float_year)+1, month=1,day=1)\n",
    "\n",
    "    s1 = (a1) * (sinceEpoch(a3)-sinceEpoch(a2))\n",
    "    s2=t.mktime((int(float_year),1,1,0,0,0,cal.weekday(int(float_year),1,1),1,0))\n",
    "\n",
    "    S=int(s1+s2)    #seconds since epoch\n",
    "    date=t.localtime(S)\n",
    "    return date\n",
    "\n",
    "# Mean longitude of earth and mars; J2000, source: NASA\n",
    "L_earth= 100.46435 \n",
    "L_mars=355.45332\n",
    "\n",
    "        # Semi major axes of Earth and mars, in AU\n",
    "dep_semiMajor=1       \n",
    "dest_semiMajor=1.5237\n",
    "\n",
    "        #Ellipse info, distances in AU\n",
    "a=(dest_semiMajor+dep_semiMajor)/2\n",
    "e=(dest_semiMajor-a)/a\n",
    "\n",
    "        #Time period\n",
    "E_TimeP = 1\n",
    "M_TimeP = E_TimeP*((dest_semiMajor/dep_semiMajor)**(3/2))\n",
    "R_TimeP= E_TimeP*((a/dep_semiMajor)**(3/2))\n",
    "R_travelT=R_TimeP/2\n",
    "synodic_P=abs(M_TimeP*E_TimeP/(E_TimeP-M_TimeP))\n",
    "\n",
    "        #other launch window essentials\n",
    "Launch_omega = abs(180-R_travelT*360/M_TimeP)\n",
    "dest_angle=R_travelT*360/M_TimeP #angle travelled by mars in the duration of travel, in degrees\n",
    "dep_omega=360/E_TimeP\n",
    "dest_omega=360/M_TimeP\n",
    "rel_omega=dest_omega-dep_omega\n",
    "\n",
    "interval=(Launch_omega-(L_mars-L_earth))/rel_omega\n",
    "Launch_W=2000+interval\n",
    "\n",
    "d1=int(input(\"When would like to launch: \"))\n",
    "\n",
    "if d1>=2000 and d1<=2100:\n",
    "    launch_list=launchList()\n",
    "    for i in launch_list:\n",
    "        if d1<=int(i):\n",
    "            lh_d=decToDate(i)\n",
    "            ld_d=decToDate(i+R_travelT)\n",
    "            print(\"The next launch window comes by on: \", lh_d[2],\"/\",lh_d[1],\"/\",lh_d[0])\n",
    "            print(\"And you will land on: \", ld_d[2],\"/\",ld_d[1],\"/\",ld_d[0])\n",
    "            break\n",
    "else:\n",
    "    print(\"Sorry. Enter another year\")\n"
   ]
  }
 ],
 "metadata": {
  "kernelspec": {
   "display_name": "Python 3",
   "language": "python",
   "name": "python3"
  },
  "language_info": {
   "codemirror_mode": {
    "name": "ipython",
    "version": 3
   },
   "file_extension": ".py",
   "mimetype": "text/x-python",
   "name": "python",
   "nbconvert_exporter": "python",
   "pygments_lexer": "ipython3",
   "version": "3.7.4"
  }
 },
 "nbformat": 4,
 "nbformat_minor": 2
}
